{
 "cells": [
  {
   "cell_type": "markdown",
   "metadata": {},
   "source": [
    "# Speech Emotion Recognition - NLP Analysis"
   ]
  },
  {
   "cell_type": "code",
   "execution_count": null,
   "metadata": {},
   "outputs": [],
   "source": [
    "import librosa
",
    "import numpy as np
",
    "import matplotlib.pyplot as plt
",
    "
",
    "# Load an example audio file
",
    "file_path = 'example.wav'  # Replace with actual file
",
    "y, sr = librosa.load(file_path, sr=None)
",
    "
",
    "# Plot the waveform
",
    "plt.figure(figsize=(10, 4))
",
    "plt.plot(y)
",
    "plt.title('Waveform of the Audio')
",
    "plt.show()"
   ]
  }
 ],
 "metadata": {},
 "nbformat": 4,
 "nbformat_minor": 4
}